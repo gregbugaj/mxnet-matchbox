{
 "cells": [
  {
   "cell_type": "code",
   "execution_count": 7,
   "metadata": {},
   "outputs": [],
   "source": [
    "import mxnet as mx\n",
    "from mxnet import nd\n",
    "from mxnet.contrib.ndarray import MultiBoxPrior\n",
    "import matplotlib.pyplot as plt"
   ]
  },
  {
   "cell_type": "code",
   "execution_count": 4,
   "metadata": {},
   "outputs": [],
   "source": [
    "def box_to_rect(box, color, linewidth=3):\n",
    "    \"\"\"convert an anchor box to a matplotlib rectangle\"\"\"\n",
    "    box = box.asnumpy()\n",
    "    return plt.Rectangle(\n",
    "        (box[0], box[1]), (box[2]-box[0]), (box[3]-box[1]),\n",
    "        fill=False, edgecolor=color, linewidth=linewidth)"
   ]
  },
  {
   "cell_type": "code",
   "execution_count": 37,
   "metadata": {},
   "outputs": [
    {
     "name": "stdout",
     "output_type": "stream",
     "text": [
      "\n",
      "[[[-0.1125     -0.1125      0.1375      0.1375    ]\n",
      "  [-0.0625     -0.0625      0.08750001  0.08750001]\n",
      "  [-0.0375     -0.0375      0.0625      0.0625    ]\n",
      "  ...\n",
      "  [ 0.9375      0.9375      1.0375      1.0375    ]\n",
      "  [ 0.8107233   0.8991117   1.1642767   1.0758884 ]\n",
      "  [ 0.8991117   0.8107233   1.0758884   1.1642767 ]]]\n",
      "<NDArray 1x8000x4 @cpu(0)>\n",
      "The first anchor box at row, col: 20 20 \n",
      "[15.5 15.5 25.5 25.5]\n",
      "<NDArray 4 @cpu(0)>\n",
      "Anchor boxes\n",
      "[15.5 15.5 25.5 25.5]\n",
      "[17.5 17.5 23.5 23.5]\n",
      "[18.5 18.5 22.5 22.5]\n",
      "[13.428931 16.964466 27.571068 24.035532]\n",
      "[16.964466 13.428931 24.035532 27.571068]\n"
     ]
    },
    {
     "data": {
      "image/png": "[encoded data removed]",
      "text/plain": [
       "<Figure size 432x288 with 1 Axes>"
      ]
     },
     "metadata": {
      "needs_background": "light"
     },
     "output_type": "display_data"
    }
   ],
   "source": [
    "    n = 40\n",
    "    x_min = 20\n",
    "    y_min = 20\n",
    "    \n",
    "    # shape: batch x channel x height x weight\n",
    "    x = nd.random_uniform(shape=(1, 3, n, n))\n",
    "    y = MultiBoxPrior(x, sizes=[.25, .15, .1], ratios=[1, 2, .5])\n",
    "#     y = MultiBoxPrior(x, sizes=[.5, .25, .1], ratios=[1, 2, .5])\n",
    "\n",
    "    print(y)\n",
    "    # the first anchor box generated for pixel at (20,20)\n",
    "    # its format is (x_min, y_min, x_max, y_max)\n",
    "    boxes = y.reshape((n, n, -1, 4))\n",
    "    print('The first anchor box at row, col:', y_min, x_min, n*boxes[y_min, x_min, 0, :])\n",
    "    colors = ['blue', 'green', 'red', 'black', 'magenta']\n",
    "    plt.imshow(nd.ones((n, n, 3)).asnumpy())\n",
    "    anchors = boxes[y_min, x_min, :, :]\n",
    "    print('Anchor boxes')\n",
    "    for i in range(anchors.shape[0]):\n",
    "        print((anchors[i,:] * n).asnumpy())\n",
    "        plt.gca().add_patch(box_to_rect(anchors[i,:]*n, colors[i]))\n",
    "    plt.show()"
   ]
  },
  {
   "cell_type": "code",
   "execution_count": null,
   "metadata": {},
   "outputs": [],
   "source": []
  }
 ],
 "metadata": {
  "kernelspec": {
   "display_name": "Python 3",
   "language": "python",
   "name": "python3"
  },
  "language_info": {
   "codemirror_mode": {
    "name": "ipython",
    "version": 3
   },
   "file_extension": ".py",
   "mimetype": "text/x-python",
   "name": "python",
   "nbconvert_exporter": "python",
   "pygments_lexer": "ipython3",
   "version": "3.8.2"
  }
 },
 "nbformat": 4,
 "nbformat_minor": 4
}
