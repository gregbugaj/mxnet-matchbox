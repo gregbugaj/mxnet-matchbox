{
 "cells": [
  {
   "cell_type": "code",
   "execution_count": 2,
   "metadata": {},
   "outputs": [
    {
     "name": "stdout",
     "output_type": "stream",
     "text": [
      "<module 'mxnet' from '/home/gbugaj/environments/mxnet_env/lib/python3.6/site-packages/mxnet-2.0.0-py3.6.egg/mxnet/__init__.py'>\n"
     ]
    }
   ],
   "source": [
    "import mxnet as mx\n"
   ]
  },
  {
   "cell_type": "code",
   "execution_count": 3,
   "metadata": {},
   "outputs": [],
   "source": [
    "# Create a new network\n",
    "net = mx.sym.Variable('BasicNet')"
   ]
  },
  {
   "cell_type": "markdown",
   "metadata": {},
   "source": [
    "Create a two layered neural network, with 128 neurons in the first, and 10 in the second.\n",
    "We'll use relu activation between the layers, and apply a Softmax normalization to the output."
   ]
  },
  {
   "cell_type": "code",
   "execution_count": null,
   "metadata": {},
   "outputs": [],
   "source": [
    "# Create a fully-connected layer with 128 neurons\n",
    "net = mx.sym.FullyConnected(data=net, name='fc1', num_hidden=128)"
   ]
  },
  {
   "cell_type": "code",
   "execution_count": null,
   "metadata": {},
   "outputs": [],
   "source": [
    "# Add ReLU activation to the network. The following activation types are supported:\n",
    "# (operations are applied elementwisely to each scalar of the input tensor):\n",
    "\n",
    "# relu: Rectified Linear Unit, y = max(x, 0)\n",
    "# sigmoid: y = 1 / (1 + exp(-x))\n",
    "# tanh: Hyperbolic tangent, y = (exp(x) - exp(-x)) / (exp(x) + exp(-x))\n",
    "# softrelu: Soft ReLU, or SoftPlus, y = log(1 + exp(x))\n",
    "\n",
    "net = mx.sym.Activation(data=net, name='relu1', act_type='relu')"
   ]
  },
  {
   "cell_type": "code",
   "execution_count": null,
   "metadata": {},
   "outputs": [],
   "source": [
    "# Create another fully-connected layer with 10 neurons\n",
    "net = mx.sym.FullyConnected(data=net, name='fc2', num_hidden=10)"
   ]
  },
  {
   "cell_type": "code",
   "execution_count": null,
   "metadata": {},
   "outputs": [],
   "source": [
    "\n",
    "# Create an output layer with softmax normalization\n",
    "net = mx.sym.SoftmaxOutput(data=net, name='out')\n",
    "                "
   ]
  },
  {
   "cell_type": "code",
   "execution_count": 5,
   "metadata": {},
   "outputs": [
    {
     "name": "stdout",
     "output_type": "stream",
     "text": [
      "<Symbol BasicNet>\n"
     ]
    }
   ],
   "source": [
    "print (net)"
   ]
  },
  {
   "cell_type": "code",
   "execution_count": null,
   "metadata": {},
   "outputs": [],
   "source": [
    "mx.viz.plot_network(net, shape={'BasicNet':(100,200)})\n"
   ]
  }
 ],
 "metadata": {
  "kernelspec": {
   "display_name": "Python 3",
   "language": "python",
   "name": "python3"
  },
  "language_info": {
   "codemirror_mode": {
    "name": "ipython",
    "version": 3
   },
   "file_extension": ".py",
   "mimetype": "text/x-python",
   "name": "python",
   "nbconvert_exporter": "python",
   "pygments_lexer": "ipython3",
   "version": "3.6.9"
  }
 },
 "nbformat": 4,
 "nbformat_minor": 4
}
